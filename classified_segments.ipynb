{
 "cells": [
  {
   "cell_type": "code",
   "execution_count": 2,
   "id": "fc8f14c8-fb23-4695-bbb9-87f979da853d",
   "metadata": {},
   "outputs": [],
   "source": [
    "import pandas as pd\n",
    "import matplotlib.pyplot as plt\n",
    "import seaborn as sns\n",
    "import numpy as np"
   ]
  },
  {
   "cell_type": "code",
   "execution_count": 4,
   "id": "3fc729cd-2f94-4bf9-8052-144b4e615c47",
   "metadata": {},
   "outputs": [],
   "source": [
    "import ssl\n",
    "\n",
    "# Отключаем проверку SSL-сертификатов\n",
    "ssl._create_default_https_context = ssl._create_unverified_context"
   ]
  },
  {
   "cell_type": "code",
   "execution_count": 5,
   "id": "228d8cac-7d2b-486f-91f0-01576e3e988a",
   "metadata": {},
   "outputs": [
    {
     "name": "stdout",
     "output_type": "stream",
     "text": [
      "<class 'pandas.core.frame.DataFrame'>\n",
      "RangeIndex: 3574 entries, 0 to 3573\n",
      "Data columns (total 9 columns):\n",
      " #   Column          Non-Null Count  Dtype  \n",
      "---  ------          --------------  -----  \n",
      " 0   id              3574 non-null   int64  \n",
      " 1   name            3574 non-null   object \n",
      " 2   system_message  3574 non-null   object \n",
      " 3   inserted_at     3574 non-null   object \n",
      " 4   updated_at      3574 non-null   object \n",
      " 5   hotkey          1281 non-null   object \n",
      " 6   user_id         3553 non-null   float64\n",
      " 7   Category        3574 non-null   object \n",
      " 8   Market Segment  3574 non-null   object \n",
      "dtypes: float64(1), int64(1), object(7)\n",
      "memory usage: 251.4+ KB\n"
     ]
    }
   ],
   "source": [
    "df = pd.read_csv('https://docs.google.com/spreadsheets/d/твой айди/export?format=csv')\n",
    "\n",
    "# Выводим первые строки для проверки\n",
    "df.info()"
   ]
  },
  {
   "cell_type": "code",
   "execution_count": 16,
   "id": "484cb36e-d88c-4079-8246-e319f67e4d35",
   "metadata": {},
   "outputs": [
    {
     "data": {
      "text/html": [
       "<div>\n",
       "<style scoped>\n",
       "    .dataframe tbody tr th:only-of-type {\n",
       "        vertical-align: middle;\n",
       "    }\n",
       "\n",
       "    .dataframe tbody tr th {\n",
       "        vertical-align: top;\n",
       "    }\n",
       "\n",
       "    .dataframe thead th {\n",
       "        text-align: right;\n",
       "    }\n",
       "</style>\n",
       "<table border=\"1\" class=\"dataframe\">\n",
       "  <thead>\n",
       "    <tr style=\"text-align: right;\">\n",
       "      <th></th>\n",
       "      <th>id</th>\n",
       "      <th>name</th>\n",
       "      <th>system_message</th>\n",
       "      <th>inserted_at</th>\n",
       "      <th>updated_at</th>\n",
       "      <th>hotkey</th>\n",
       "      <th>user_id</th>\n",
       "      <th>Category</th>\n",
       "      <th>Market Segment</th>\n",
       "    </tr>\n",
       "  </thead>\n",
       "  <tbody>\n",
       "    <tr>\n",
       "      <th>1012</th>\n",
       "      <td>2218</td>\n",
       "      <td>Reply</td>\n",
       "      <td>建議回覆內容</td>\n",
       "      <td>2024-09-29 11:34:50</td>\n",
       "      <td>2024-09-29 13:42:08</td>\n",
       "      <td>command+shift+r</td>\n",
       "      <td>2179.0</td>\n",
       "      <td>Text Response Generation</td>\n",
       "      <td>Language &amp; Translation</td>\n",
       "    </tr>\n",
       "    <tr>\n",
       "      <th>3467</th>\n",
       "      <td>5689</td>\n",
       "      <td>Answer</td>\n",
       "      <td>Answer</td>\n",
       "      <td>2025-01-07 18:48:57</td>\n",
       "      <td>2025-01-07 22:08:46</td>\n",
       "      <td>NaN</td>\n",
       "      <td>2467.0</td>\n",
       "      <td>Content Creation</td>\n",
       "      <td>Content &amp; Marketing</td>\n",
       "    </tr>\n",
       "  </tbody>\n",
       "</table>\n",
       "</div>"
      ],
      "text/plain": [
       "        id    name system_message          inserted_at           updated_at  \\\n",
       "1012  2218   Reply         建議回覆內容  2024-09-29 11:34:50  2024-09-29 13:42:08   \n",
       "3467  5689  Answer         Answer  2025-01-07 18:48:57  2025-01-07 22:08:46   \n",
       "\n",
       "               hotkey  user_id                  Category  \\\n",
       "1012  command+shift+r   2179.0  Text Response Generation   \n",
       "3467              NaN   2467.0          Content Creation   \n",
       "\n",
       "              Market Segment  \n",
       "1012  Language & Translation  \n",
       "3467     Content & Marketing  "
      ]
     },
     "execution_count": 16,
     "metadata": {},
     "output_type": "execute_result"
    }
   ],
   "source": [
    "df.loc[df[\"id\"] == 2218, \"Category\"] = \"Text Response Generation\"\n",
    "df.loc[df[\"id\"] == 5689, \"Category\"] = \"Content Creation\"\n",
    "\n",
    "# Проверяем, что изменения применились\n",
    "df.loc[df[\"id\"].isin([2218, 5689])]"
   ]
  },
  {
   "cell_type": "code",
   "execution_count": 17,
   "id": "35510124-d334-4fe9-9d12-03a89a26cc44",
   "metadata": {},
   "outputs": [
    {
     "name": "stdout",
     "output_type": "stream",
     "text": [
      "Итоговая таблица успешно сохранена в 'classified_segments.pkl'.\n"
     ]
    }
   ],
   "source": [
    "df.to_pickle(\"classified_segments.pkl\")\n",
    "print(\"Итоговая таблица успешно сохранена в 'classified_segments.pkl'.\")"
   ]
  },
  {
   "cell_type": "code",
   "execution_count": null,
   "id": "b32afafb-9ab1-4db1-acde-c0f4f70282cb",
   "metadata": {},
   "outputs": [],
   "source": []
  }
 ],
 "metadata": {
  "kernelspec": {
   "display_name": "Python 3 (ipykernel)",
   "language": "python",
   "name": "python3"
  },
  "language_info": {
   "codemirror_mode": {
    "name": "ipython",
    "version": 3
   },
   "file_extension": ".py",
   "mimetype": "text/x-python",
   "name": "python",
   "nbconvert_exporter": "python",
   "pygments_lexer": "ipython3",
   "version": "3.11.7"
  }
 },
 "nbformat": 4,
 "nbformat_minor": 5
}
